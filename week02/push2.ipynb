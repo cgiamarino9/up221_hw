{
 "cells": [
  {
   "cell_type": "code",
   "execution_count": 1,
   "id": "f63b44ab-b1a7-45b8-aa88-3efd3930e690",
   "metadata": {},
   "outputs": [
    {
     "name": "stdout",
     "output_type": "stream",
     "text": [
      "push2\n"
     ]
    }
   ],
   "source": [
    "print('push2')"
   ]
  },
  {
   "cell_type": "code",
   "execution_count": null,
   "id": "1cfa9b01-c484-4ffb-a258-9fa9d33114ce",
   "metadata": {},
   "outputs": [],
   "source": []
  }
 ],
 "metadata": {
  "kernelspec": {
   "display_name": "Python 3 (ipykernel)",
   "language": "python",
   "name": "python3"
  },
  "language_info": {
   "codemirror_mode": {
    "name": "ipython",
    "version": 3
   },
   "file_extension": ".py",
   "mimetype": "text/x-python",
   "name": "python",
   "nbconvert_exporter": "python",
   "pygments_lexer": "ipython3",
   "version": "3.11.5"
  }
 },
 "nbformat": 4,
 "nbformat_minor": 5
}
